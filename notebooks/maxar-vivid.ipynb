{
 "cells": [
  {
   "cell_type": "markdown",
   "id": "50e92860",
   "metadata": {},
   "source": [
    "# Analysis of School Openspace using Maxar Vivid basemap"
   ]
  },
  {
   "cell_type": "code",
   "execution_count": 1,
   "id": "c27e3e5e",
   "metadata": {},
   "outputs": [],
   "source": [
    "import os\n",
    "import sys\n",
    "\n",
    "import geopandas as gpd\n",
    "from geopandas.tools import overlay\n",
    "\n",
    "import shapely.geometry as geometry\n",
    "from shapely.ops import linemerge, unary_union, polygonize"
   ]
  },
  {
   "cell_type": "markdown",
   "id": "88260a4d",
   "metadata": {},
   "source": [
    "### _Initialise environment to create instance of WMTS-extractor client_"
   ]
  },
  {
   "cell_type": "code",
   "execution_count": 2,
   "id": "16e7c8c8",
   "metadata": {},
   "outputs": [
    {
     "data": {
      "text/plain": [
       "'C:\\\\Users\\\\crwil\\\\Documents\\\\GitHub\\\\overpass-api'"
      ]
     },
     "execution_count": 2,
     "metadata": {},
     "output_type": "execute_result"
    }
   ],
   "source": [
    "# define repo name and get root working directory\n",
    "repo = 'overpass-api'\n",
    "root_path = os.getcwd()[ 0 : os.getcwd().find( repo ) + len ( repo )]\n",
    "root_path"
   ]
  },
  {
   "cell_type": "code",
   "execution_count": 3,
   "id": "82760d1c",
   "metadata": {},
   "outputs": [],
   "source": [
    "# add repo source + notebooks directory to system path\n",
    "import sys\n",
    "sys.path.insert(0, os.path.join( root_path, 'src' ) )\n",
    "sys.path.insert(0, os.path.join( root_path, 'notebooks' ) )"
   ]
  },
  {
   "cell_type": "code",
   "execution_count": 4,
   "id": "dd254906",
   "metadata": {},
   "outputs": [],
   "source": [
    "# add repo source + notebooks directory to system path\n",
    "extractor_path = os.path.join( os.path.dirname( root_path ), 'wmts-extractor' )\n",
    "sys.path.insert(0, os.path.join( extractor_path, 'src' ) )"
   ]
  },
  {
   "cell_type": "markdown",
   "id": "d6f13689",
   "metadata": {},
   "source": [
    "### _Retrieve OSM school amenities intersecting arbitrary bounding box_"
   ]
  },
  {
   "cell_type": "code",
   "execution_count": 5,
   "id": "f1571bb5",
   "metadata": {},
   "outputs": [],
   "source": [
    "# aoi encompassing sussex county\n",
    "bbox = (50.72222,-0.9575,51.16722,0.04527778)"
   ]
  },
  {
   "cell_type": "code",
   "execution_count": 6,
   "id": "1c66e7d1",
   "metadata": {},
   "outputs": [],
   "source": [
    "# create client object\n",
    "from client import Client\n",
    "obj = Client()"
   ]
  },
  {
   "cell_type": "code",
   "execution_count": 7,
   "id": "7b852173",
   "metadata": {},
   "outputs": [],
   "source": [
    "# overpass query to retrieve osm amenities labelled schools\n",
    "df_amenity = obj.getWaysInBoundingBox( 'amenity', bbox, value='school', tags=['name','addr:postcode'] )"
   ]
  },
  {
   "cell_type": "code",
   "execution_count": 8,
   "id": "db31d77c",
   "metadata": {},
   "outputs": [
    {
     "data": {
      "text/html": [
       "<div>\n",
       "<style scoped>\n",
       "    .dataframe tbody tr th:only-of-type {\n",
       "        vertical-align: middle;\n",
       "    }\n",
       "\n",
       "    .dataframe tbody tr th {\n",
       "        vertical-align: top;\n",
       "    }\n",
       "\n",
       "    .dataframe thead th {\n",
       "        text-align: right;\n",
       "    }\n",
       "</style>\n",
       "<table border=\"1\" class=\"dataframe\">\n",
       "  <thead>\n",
       "    <tr style=\"text-align: right;\">\n",
       "      <th></th>\n",
       "      <th>id</th>\n",
       "      <th>geometry</th>\n",
       "      <th>name</th>\n",
       "      <th>addr:postcode</th>\n",
       "      <th>area</th>\n",
       "    </tr>\n",
       "  </thead>\n",
       "  <tbody>\n",
       "    <tr>\n",
       "      <th>0</th>\n",
       "      <td>314916357</td>\n",
       "      <td>POLYGON ((-0.49428 51.15509, -0.49398 51.15495...</td>\n",
       "      <td>Cranleigh School</td>\n",
       "      <td>GU6 8QQ</td>\n",
       "      <td>516860.633414</td>\n",
       "    </tr>\n",
       "    <tr>\n",
       "      <th>1</th>\n",
       "      <td>168362398</td>\n",
       "      <td>POLYGON ((-0.30112 50.84428, -0.30144 50.84428...</td>\n",
       "      <td>Lancing College</td>\n",
       "      <td>BN15 0RW</td>\n",
       "      <td>456238.455368</td>\n",
       "    </tr>\n",
       "    <tr>\n",
       "      <th>2</th>\n",
       "      <td>170302233</td>\n",
       "      <td>POLYGON ((-0.94699 51.02212, -0.94602 51.02224...</td>\n",
       "      <td>Bedales Schools</td>\n",
       "      <td>GU32 2DG</td>\n",
       "      <td>425233.694465</td>\n",
       "    </tr>\n",
       "    <tr>\n",
       "      <th>3</th>\n",
       "      <td>227489222</td>\n",
       "      <td>POLYGON ((-0.74335 50.84216, -0.74296 50.84227...</td>\n",
       "      <td>Westbourne House School</td>\n",
       "      <td>PO20 2BH</td>\n",
       "      <td>233501.424712</td>\n",
       "    </tr>\n",
       "    <tr>\n",
       "      <th>4</th>\n",
       "      <td>313763214</td>\n",
       "      <td>POLYGON ((-0.49297 51.14893, -0.49289 51.14900...</td>\n",
       "      <td>Cranleigh Preparatory School</td>\n",
       "      <td>GU6 8QH</td>\n",
       "      <td>220862.898409</td>\n",
       "    </tr>\n",
       "    <tr>\n",
       "      <th>5</th>\n",
       "      <td>164938607</td>\n",
       "      <td>POLYGON ((-0.66706 50.87637, -0.66710 50.87634...</td>\n",
       "      <td>Great Ballard School</td>\n",
       "      <td>PO18 0LR</td>\n",
       "      <td>206916.243742</td>\n",
       "    </tr>\n",
       "    <tr>\n",
       "      <th>6</th>\n",
       "      <td>447262338</td>\n",
       "      <td>POLYGON ((0.00684 51.03803, 0.00708 51.03803, ...</td>\n",
       "      <td>Cumnor House School</td>\n",
       "      <td>RH17 7HT</td>\n",
       "      <td>194188.001849</td>\n",
       "    </tr>\n",
       "    <tr>\n",
       "      <th>7</th>\n",
       "      <td>676324975</td>\n",
       "      <td>POLYGON ((-0.64715 51.13966, -0.64551 51.13992...</td>\n",
       "      <td>King Edward's School</td>\n",
       "      <td>GU8 5SG</td>\n",
       "      <td>193564.470110</td>\n",
       "    </tr>\n",
       "    <tr>\n",
       "      <th>8</th>\n",
       "      <td>26292703</td>\n",
       "      <td>POLYGON ((-0.77348 50.83002, -0.77410 50.82829...</td>\n",
       "      <td>Chichester High School</td>\n",
       "      <td>PO19 8EB</td>\n",
       "      <td>190627.326042</td>\n",
       "    </tr>\n",
       "    <tr>\n",
       "      <th>9</th>\n",
       "      <td>226699636</td>\n",
       "      <td>POLYGON ((-0.07834 50.80972, -0.08016 50.81018...</td>\n",
       "      <td>Roedean School</td>\n",
       "      <td>BN2 5RQ</td>\n",
       "      <td>186579.341272</td>\n",
       "    </tr>\n",
       "  </tbody>\n",
       "</table>\n",
       "</div>"
      ],
      "text/plain": [
       "          id                                           geometry  \\\n",
       "0  314916357  POLYGON ((-0.49428 51.15509, -0.49398 51.15495...   \n",
       "1  168362398  POLYGON ((-0.30112 50.84428, -0.30144 50.84428...   \n",
       "2  170302233  POLYGON ((-0.94699 51.02212, -0.94602 51.02224...   \n",
       "3  227489222  POLYGON ((-0.74335 50.84216, -0.74296 50.84227...   \n",
       "4  313763214  POLYGON ((-0.49297 51.14893, -0.49289 51.14900...   \n",
       "5  164938607  POLYGON ((-0.66706 50.87637, -0.66710 50.87634...   \n",
       "6  447262338  POLYGON ((0.00684 51.03803, 0.00708 51.03803, ...   \n",
       "7  676324975  POLYGON ((-0.64715 51.13966, -0.64551 51.13992...   \n",
       "8   26292703  POLYGON ((-0.77348 50.83002, -0.77410 50.82829...   \n",
       "9  226699636  POLYGON ((-0.07834 50.80972, -0.08016 50.81018...   \n",
       "\n",
       "                           name addr:postcode           area  \n",
       "0              Cranleigh School       GU6 8QQ  516860.633414  \n",
       "1               Lancing College      BN15 0RW  456238.455368  \n",
       "2               Bedales Schools      GU32 2DG  425233.694465  \n",
       "3       Westbourne House School      PO20 2BH  233501.424712  \n",
       "4  Cranleigh Preparatory School       GU6 8QH  220862.898409  \n",
       "5          Great Ballard School      PO18 0LR  206916.243742  \n",
       "6           Cumnor House School      RH17 7HT  194188.001849  \n",
       "7          King Edward's School       GU8 5SG  193564.470110  \n",
       "8        Chichester High School      PO19 8EB  190627.326042  \n",
       "9                Roedean School       BN2 5RQ  186579.341272  "
      ]
     },
     "execution_count": 8,
     "metadata": {},
     "output_type": "execute_result"
    }
   ],
   "source": [
    "# compute area in uk national grid coordinates\n",
    "df_amenity = df_amenity.to_crs( 27700 )\n",
    "df_amenity[ 'area' ] = df_amenity[ 'geometry' ].area\n",
    "\n",
    "# sort on area column and revert to geographic coordinates\n",
    "df_amenity.sort_values( 'area', ascending=False, inplace=True )\n",
    "df_amenity.reset_index( drop=True, inplace=True )\n",
    "df_amenity = df_amenity.to_crs( 4326 )\n",
    "        \n",
    "df_amenity.head(10)"
   ]
  },
  {
   "cell_type": "markdown",
   "id": "3ba71271",
   "metadata": {},
   "source": [
    "### _Demonstrate retrieval of Sentinel-2 cloud-free mosaics collocated with largest school openspace_"
   ]
  },
  {
   "cell_type": "code",
   "execution_count": 9,
   "id": "ec6acd1b",
   "metadata": {},
   "outputs": [
    {
     "data": {
      "text/html": [
       "<div>\n",
       "<style scoped>\n",
       "    .dataframe tbody tr th:only-of-type {\n",
       "        vertical-align: middle;\n",
       "    }\n",
       "\n",
       "    .dataframe tbody tr th {\n",
       "        vertical-align: top;\n",
       "    }\n",
       "\n",
       "    .dataframe thead th {\n",
       "        text-align: right;\n",
       "    }\n",
       "</style>\n",
       "<table border=\"1\" class=\"dataframe\">\n",
       "  <thead>\n",
       "    <tr style=\"text-align: right;\">\n",
       "      <th></th>\n",
       "      <th>id</th>\n",
       "      <th>geometry</th>\n",
       "      <th>name</th>\n",
       "      <th>addr:postcode</th>\n",
       "      <th>area</th>\n",
       "      <th>distance</th>\n",
       "      <th>type</th>\n",
       "    </tr>\n",
       "  </thead>\n",
       "  <tbody>\n",
       "    <tr>\n",
       "      <th>0</th>\n",
       "      <td>314916357</td>\n",
       "      <td>POLYGON ((-0.49428 51.15509, -0.49398 51.15495...</td>\n",
       "      <td>aoi-0</td>\n",
       "      <td>GU6 8QQ</td>\n",
       "      <td>516860.633414</td>\n",
       "      <td>100</td>\n",
       "      <td>Polygon</td>\n",
       "    </tr>\n",
       "    <tr>\n",
       "      <th>1</th>\n",
       "      <td>168362398</td>\n",
       "      <td>POLYGON ((-0.30112 50.84428, -0.30144 50.84428...</td>\n",
       "      <td>aoi-1</td>\n",
       "      <td>BN15 0RW</td>\n",
       "      <td>456238.455368</td>\n",
       "      <td>100</td>\n",
       "      <td>Polygon</td>\n",
       "    </tr>\n",
       "    <tr>\n",
       "      <th>2</th>\n",
       "      <td>170302233</td>\n",
       "      <td>POLYGON ((-0.94699 51.02212, -0.94602 51.02224...</td>\n",
       "      <td>aoi-2</td>\n",
       "      <td>GU32 2DG</td>\n",
       "      <td>425233.694465</td>\n",
       "      <td>100</td>\n",
       "      <td>Polygon</td>\n",
       "    </tr>\n",
       "    <tr>\n",
       "      <th>3</th>\n",
       "      <td>227489222</td>\n",
       "      <td>POLYGON ((-0.74335 50.84216, -0.74296 50.84227...</td>\n",
       "      <td>aoi-3</td>\n",
       "      <td>PO20 2BH</td>\n",
       "      <td>233501.424712</td>\n",
       "      <td>100</td>\n",
       "      <td>Polygon</td>\n",
       "    </tr>\n",
       "    <tr>\n",
       "      <th>4</th>\n",
       "      <td>313763214</td>\n",
       "      <td>POLYGON ((-0.49297 51.14893, -0.49289 51.14900...</td>\n",
       "      <td>aoi-4</td>\n",
       "      <td>GU6 8QH</td>\n",
       "      <td>220862.898409</td>\n",
       "      <td>100</td>\n",
       "      <td>Polygon</td>\n",
       "    </tr>\n",
       "  </tbody>\n",
       "</table>\n",
       "</div>"
      ],
      "text/plain": [
       "          id                                           geometry   name  \\\n",
       "0  314916357  POLYGON ((-0.49428 51.15509, -0.49398 51.15495...  aoi-0   \n",
       "1  168362398  POLYGON ((-0.30112 50.84428, -0.30144 50.84428...  aoi-1   \n",
       "2  170302233  POLYGON ((-0.94699 51.02212, -0.94602 51.02224...  aoi-2   \n",
       "3  227489222  POLYGON ((-0.74335 50.84216, -0.74296 50.84227...  aoi-3   \n",
       "4  313763214  POLYGON ((-0.49297 51.14893, -0.49289 51.14900...  aoi-4   \n",
       "\n",
       "  addr:postcode           area  distance     type  \n",
       "0       GU6 8QQ  516860.633414       100  Polygon  \n",
       "1      BN15 0RW  456238.455368       100  Polygon  \n",
       "2      GU32 2DG  425233.694465       100  Polygon  \n",
       "3      PO20 2BH  233501.424712       100  Polygon  \n",
       "4       GU6 8QH  220862.898409       100  Polygon  "
      ]
     },
     "execution_count": 9,
     "metadata": {},
     "output_type": "execute_result"
    }
   ],
   "source": [
    "# add columns for wmts extraction\n",
    "df_amenity[ 'distance' ] = 100\n",
    "df_amenity[ 'type' ] = df_amenity.iloc[ 0 ][ 'geometry' ].type\n",
    "df_amenity[ 'name' ] = df_amenity.apply( lambda x: 'aoi-' + str( x.name ) , axis=1)\n",
    "df_amenity.head(5)"
   ]
  },
  {
   "cell_type": "code",
   "execution_count": 10,
   "id": "67fad2b6",
   "metadata": {},
   "outputs": [],
   "source": [
    "import yaml\n",
    "from munch import munchify\n",
    "from extractor import Extractor\n",
    "\n",
    "# load config parameters from file\n",
    "cfg_path = os.path.join( extractor_path, 'cfg' )\n",
    "with open( os.path.join( cfg_path, 'earthservice.yml' ), 'r' ) as f:\n",
    "    config = munchify( yaml.safe_load( f ) )"
   ]
  },
  {
   "cell_type": "code",
   "execution_count": 11,
   "id": "1cbe1af4",
   "metadata": {},
   "outputs": [],
   "source": [
    "from osgeo import gdal\n",
    "\n",
    "import numpy as np\n",
    "import cartopy.crs as ccrs\n",
    "import matplotlib.pyplot as plt\n",
    "\n",
    "def plotImage( pathname, annotation, suptitle=None ):\n",
    "\n",
    "    \"\"\"\n",
    "    plot image\n",
    "    \"\"\"\n",
    "    \n",
    "    def getExtent( ds ):\n",
    "        \n",
    "        \"\"\"\n",
    "        get extent\n",
    "        \"\"\"\n",
    "    \n",
    "        # get minmax image coordinates\n",
    "        image_y = np.array(np.arange(0, ds.RasterYSize ) )\n",
    "        image_x = np.array(np.arange(0, ds.RasterXSize ) )\n",
    "        \n",
    "        # get minmax map coordinates\n",
    "        transform = ds.GetGeoTransform()\n",
    "        map_x, map_y = ( transform[0] + image_x * transform[1] ), ( transform[3] + image_y * transform[5] )\n",
    "        \n",
    "        return [ np.amin( map_x ), \n",
    "                 np.amax( map_x ), \n",
    "                 np.amin( map_y ), \n",
    "                 np.amax( map_y ) ]\n",
    "            \n",
    "    # setup params\n",
    "    plt.rc('font', size=10)   \n",
    "    \n",
    "    # create figure with 3857 projection\n",
    "    crs = ccrs.epsg( int( 3857 ) )\n",
    "    fig, ax = plt.subplots( figsize=(10,10), \n",
    "                            nrows=1, \n",
    "                            ncols=1, \n",
    "                            subplot_kw={'projection': crs },\n",
    "                            constrained_layout=True )\n",
    "    \n",
    "    # plot suptitle if defined\n",
    "    if suptitle is not None:\n",
    "        fig.suptitle( suptitle, \n",
    "                    fontsize=18, \n",
    "                    horizontalalignment='center',\n",
    "                    verticalalignment='center' )\n",
    "    \n",
    "    # open image pathname\n",
    "    ds = gdal.Open( pathname )\n",
    "    \n",
    "    # read data\n",
    "    data = ds.ReadAsArray().transpose( 1, 2, 0 )\n",
    "    data = data[ ::, ::, 0:3 ]\n",
    "    \n",
    "    # plot image    \n",
    "    ax.imshow( data, \n",
    "            extent=getExtent( ds ), \n",
    "            origin='upper', \n",
    "            interpolation='bilinear', \n",
    "            aspect='auto', \n",
    "            zorder=10 )\n",
    "        \n",
    "    # draw annotation\n",
    "    annotation.plot(  ax=ax, \n",
    "                    facecolor='red',\n",
    "                    edgecolor='black', \n",
    "                    linewidth=1,\n",
    "                    alpha=0.2,\n",
    "                    zorder=20)\n",
    "    \n",
    "    # draw gridlines\n",
    "    gl = ax.gridlines( draw_labels=True,\n",
    "                    linewidth=1, \n",
    "                    color='white', \n",
    "                    alpha=1.0, \n",
    "                    linestyle=':',\n",
    "                    zorder=30)\n",
    "\n",
    "    # remove labels from top and right\n",
    "    gl.right_labels = gl.top_labels = False                \n",
    "    return"
   ]
  },
  {
   "cell_type": "code",
   "execution_count": 12,
   "id": "13b6f246",
   "metadata": {
    "scrolled": false
   },
   "outputs": [],
   "source": [
    "# define arguments\n",
    "args = munchify ( { 'zoom' : 15, \n",
    "         'root_path' : 'C:\\\\Users\\\\crwil\\\\Documents\\\\results2',\n",
    "         'options' : 'TILED=YES COMPRESS=LZW',\n",
    "         'overwrite' : False } )\n",
    "\n",
    "obj = Extractor( config, args )"
   ]
  },
  {
   "cell_type": "code",
   "execution_count": 13,
   "id": "cd827292",
   "metadata": {
    "scrolled": false
   },
   "outputs": [
    {
     "name": "stdout",
     "output_type": "stream",
     "text": [
      "output file already exists: C:\\Users\\crwil\\Documents\\results2\\aoi-0\\aoi-0_15_100.TIF\n"
     ]
    },
    {
     "ename": "AttributeError",
     "evalue": "'Pandas' object has no attribute 'school'",
     "output_type": "error",
     "traceback": [
      "\u001b[1;31m---------------------------------------------------------------------------\u001b[0m",
      "\u001b[1;31mAttributeError\u001b[0m                            Traceback (most recent call last)",
      "\u001b[1;32m~\\AppData\\Local\\Temp/ipykernel_42780/2156889506.py\u001b[0m in \u001b[0;36m<module>\u001b[1;34m\u001b[0m\n\u001b[0;32m     10\u001b[0m     \u001b[0mdf_geom\u001b[0m \u001b[1;33m=\u001b[0m \u001b[0mdf_geom\u001b[0m\u001b[1;33m.\u001b[0m\u001b[0mto_crs\u001b[0m\u001b[1;33m(\u001b[0m \u001b[1;36m3857\u001b[0m \u001b[1;33m)\u001b[0m\u001b[1;33m\u001b[0m\u001b[1;33m\u001b[0m\u001b[0m\n\u001b[0;32m     11\u001b[0m \u001b[1;33m\u001b[0m\u001b[0m\n\u001b[1;32m---> 12\u001b[1;33m     \u001b[0mplotImage\u001b[0m\u001b[1;33m(\u001b[0m \u001b[0mpathname\u001b[0m\u001b[1;33m,\u001b[0m \u001b[0mdf_geom\u001b[0m\u001b[1;33m,\u001b[0m \u001b[0msuptitle\u001b[0m\u001b[1;33m=\u001b[0m\u001b[0maoi\u001b[0m\u001b[1;33m.\u001b[0m\u001b[0mschool\u001b[0m \u001b[1;33m)\u001b[0m\u001b[1;33m\u001b[0m\u001b[1;33m\u001b[0m\u001b[0m\n\u001b[0m",
      "\u001b[1;31mAttributeError\u001b[0m: 'Pandas' object has no attribute 'school'"
     ]
    }
   ],
   "source": [
    "# subset largest 25 schools\n",
    "df_subset = df_amenity[ 0:25 ] \n",
    "for aoi in df_subset.itertuples():\n",
    "\n",
    "    # retrieve and plot wmts images\n",
    "    pathname = obj.processAoI( aoi, None, args )   \n",
    "        \n",
    "    # display image + geometry annotation\n",
    "    df_geom = gpd.GeoDataFrame(geometry=gpd.GeoSeries(aoi.geometry), crs=4326 )\n",
    "    df_geom = df_geom.to_crs( 3857 )\n",
    "        \n",
    "    plotImage( pathname, df_geom, suptitle=aoi.school )"
   ]
  },
  {
   "cell_type": "code",
   "execution_count": null,
   "id": "7715ce1c",
   "metadata": {},
   "outputs": [],
   "source": []
  }
 ],
 "metadata": {
  "kernelspec": {
   "display_name": "Python 3 (ipykernel)",
   "language": "python",
   "name": "python3"
  },
  "language_info": {
   "codemirror_mode": {
    "name": "ipython",
    "version": 3
   },
   "file_extension": ".py",
   "mimetype": "text/x-python",
   "name": "python",
   "nbconvert_exporter": "python",
   "pygments_lexer": "ipython3",
   "version": "3.9.9"
  }
 },
 "nbformat": 4,
 "nbformat_minor": 5
}
